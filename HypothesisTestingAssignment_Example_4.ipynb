{
 "cells": [
  {
   "cell_type": "code",
   "execution_count": 20,
   "id": "d6842449",
   "metadata": {},
   "outputs": [],
   "source": [
    "import pandas as pd\n",
    "import scipy \n",
    "import numpy as np\n",
    "from scipy import stats\n",
    "from scipy.stats import chi2_contingency\n",
    "from scipy.stats import chi2"
   ]
  },
  {
   "cell_type": "code",
   "execution_count": 21,
   "id": "f86398bf",
   "metadata": {},
   "outputs": [],
   "source": [
    "ord=pd.read_csv('CostomerOrderForm.csv')"
   ]
  },
  {
   "cell_type": "code",
   "execution_count": 22,
   "id": "4bee1efe",
   "metadata": {},
   "outputs": [],
   "source": [
    "# H0 : Process the order form, Independent\n",
    "# H1: Rework the order form, Dependent"
   ]
  },
  {
   "cell_type": "code",
   "execution_count": 24,
   "id": "074ec9b4",
   "metadata": {},
   "outputs": [
    {
     "name": "stdout",
     "output_type": "stream",
     "text": [
      "Error Free    271\n",
      "Defective      29\n",
      "Name: Phillippines, dtype: int64 Error Free    267\n",
      "Defective      33\n",
      "Name: Indonesia, dtype: int64 Error Free    269\n",
      "Defective      31\n",
      "Name: Malta, dtype: int64 Error Free    280\n",
      "Defective      20\n",
      "Name: India, dtype: int64\n"
     ]
    }
   ],
   "source": [
    "print(ord['Phillippines'].value_counts(),ord['Indonesia'].value_counts(),ord['Malta'].value_counts(),ord['India'].value_counts())"
   ]
  },
  {
   "cell_type": "code",
   "execution_count": 25,
   "id": "6aaf00fc",
   "metadata": {},
   "outputs": [],
   "source": [
    "values=([[271,267,269,280],[29,33,31,20]])"
   ]
  },
  {
   "cell_type": "code",
   "execution_count": 26,
   "id": "e369bbbb",
   "metadata": {},
   "outputs": [
    {
     "data": {
      "text/plain": [
       "[[271, 267, 269, 280], [29, 33, 31, 20]]"
      ]
     },
     "execution_count": 26,
     "metadata": {},
     "output_type": "execute_result"
    }
   ],
   "source": [
    "values"
   ]
  },
  {
   "cell_type": "code",
   "execution_count": 27,
   "id": "de3e5cd4",
   "metadata": {},
   "outputs": [],
   "source": [
    "stat, p, dof, expected = chi2_contingency(values)"
   ]
  },
  {
   "cell_type": "code",
   "execution_count": 39,
   "id": "75325cb9",
   "metadata": {},
   "outputs": [
    {
     "data": {
      "text/plain": [
       "(3.858960685820355, 0.2771020991233135)"
      ]
     },
     "execution_count": 39,
     "metadata": {},
     "output_type": "execute_result"
    }
   ],
   "source": [
    "stat, p"
   ]
  },
  {
   "cell_type": "code",
   "execution_count": 40,
   "id": "ab804362",
   "metadata": {},
   "outputs": [],
   "source": [
    "q=1-p"
   ]
  },
  {
   "cell_type": "code",
   "execution_count": 41,
   "id": "f54af2fe",
   "metadata": {},
   "outputs": [
    {
     "data": {
      "text/plain": [
       "0.7228979008766865"
      ]
     },
     "execution_count": 41,
     "metadata": {},
     "output_type": "execute_result"
    }
   ],
   "source": [
    "q"
   ]
  },
  {
   "cell_type": "code",
   "execution_count": 30,
   "id": "1e535ce4",
   "metadata": {},
   "outputs": [
    {
     "data": {
      "text/plain": [
       "3"
      ]
     },
     "execution_count": 30,
     "metadata": {},
     "output_type": "execute_result"
    }
   ],
   "source": [
    "dof #degrees of freedom"
   ]
  },
  {
   "cell_type": "code",
   "execution_count": 31,
   "id": "7aacf25c",
   "metadata": {},
   "outputs": [
    {
     "data": {
      "text/plain": [
       "array([[271.75, 271.75, 271.75, 271.75],\n",
       "       [ 28.25,  28.25,  28.25,  28.25]])"
      ]
     },
     "execution_count": 31,
     "metadata": {},
     "output_type": "execute_result"
    }
   ],
   "source": [
    "expected"
   ]
  },
  {
   "cell_type": "code",
   "execution_count": 45,
   "id": "e3eddbb7",
   "metadata": {},
   "outputs": [],
   "source": [
    "critical = chi2.ppf(q, dof)"
   ]
  },
  {
   "cell_type": "code",
   "execution_count": 44,
   "id": "d0d71454",
   "metadata": {},
   "outputs": [
    {
     "data": {
      "text/plain": [
       "3.858960685820358"
      ]
     },
     "execution_count": 44,
     "metadata": {},
     "output_type": "execute_result"
    }
   ],
   "source": [
    "critical"
   ]
  },
  {
   "cell_type": "code",
   "execution_count": 46,
   "id": "f710692e",
   "metadata": {},
   "outputs": [
    {
     "data": {
      "text/plain": [
       "3.858960685820355"
      ]
     },
     "execution_count": 46,
     "metadata": {},
     "output_type": "execute_result"
    }
   ],
   "source": [
    "stat"
   ]
  },
  {
   "cell_type": "code",
   "execution_count": 47,
   "id": "d81c5b71",
   "metadata": {},
   "outputs": [
    {
     "name": "stdout",
     "output_type": "stream",
     "text": [
      "Independent, go for H0\n"
     ]
    }
   ],
   "source": [
    "if stat >=critical:\n",
    "    print(\"Dependent, reject H0\")\n",
    "else:\n",
    "    print(\"Independent, go for H0\")"
   ]
  },
  {
   "cell_type": "code",
   "execution_count": 48,
   "id": "65b0a0cf",
   "metadata": {},
   "outputs": [
    {
     "name": "stdout",
     "output_type": "stream",
     "text": [
      "Independent, go for H0\n"
     ]
    }
   ],
   "source": [
    "if p <= 0.05:\n",
    "    print(\"Dependent, reject H0\")\n",
    "else:\n",
    "    print(\"Independent, go for H0\")"
   ]
  }
 ],
 "metadata": {
  "kernelspec": {
   "display_name": "Python 3 (ipykernel)",
   "language": "python",
   "name": "python3"
  },
  "language_info": {
   "codemirror_mode": {
    "name": "ipython",
    "version": 3
   },
   "file_extension": ".py",
   "mimetype": "text/x-python",
   "name": "python",
   "nbconvert_exporter": "python",
   "pygments_lexer": "ipython3",
   "version": "3.9.7"
  }
 },
 "nbformat": 4,
 "nbformat_minor": 5
}
