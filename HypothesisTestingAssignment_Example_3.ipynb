{
 "cells": [
  {
   "cell_type": "code",
   "execution_count": 1,
   "id": "49ab8e9f",
   "metadata": {},
   "outputs": [],
   "source": [
    "import pandas as pd\n",
    "import scipy \n",
    "import numpy as np\n",
    "from scipy import stats\n",
    "import scipy.stats as stats    #For ANOVA test"
   ]
  },
  {
   "cell_type": "code",
   "execution_count": 2,
   "id": "84ad0198",
   "metadata": {},
   "outputs": [],
   "source": [
    "males=pd.Series([50,142,131,70])"
   ]
  },
  {
   "cell_type": "code",
   "execution_count": 3,
   "id": "b8015826",
   "metadata": {},
   "outputs": [],
   "source": [
    "females=pd.Series([550,351,480,350])"
   ]
  },
  {
   "cell_type": "code",
   "execution_count": 4,
   "id": "35bf3817",
   "metadata": {},
   "outputs": [],
   "source": [
    "# H0 = All proportions are equal\n",
    "# H1 = Not All proportions are equal"
   ]
  },
  {
   "cell_type": "code",
   "execution_count": 5,
   "id": "5e6ad4ab",
   "metadata": {},
   "outputs": [
    {
     "data": {
      "text/plain": [
       "Ttest_indResult(statistic=-6.139294288037571, pvalue=0.0008548166684701879)"
      ]
     },
     "execution_count": 5,
     "metadata": {},
     "output_type": "execute_result"
    }
   ],
   "source": [
    "stats.ttest_ind(males,females)"
   ]
  },
  {
   "cell_type": "code",
   "execution_count": 6,
   "id": "bbec4ac7",
   "metadata": {},
   "outputs": [],
   "source": [
    "# p < 0.05\n",
    "# Go for H1\n",
    "# Hence, not All proportions are equal"
   ]
  }
 ],
 "metadata": {
  "kernelspec": {
   "display_name": "Python 3 (ipykernel)",
   "language": "python",
   "name": "python3"
  },
  "language_info": {
   "codemirror_mode": {
    "name": "ipython",
    "version": 3
   },
   "file_extension": ".py",
   "mimetype": "text/x-python",
   "name": "python",
   "nbconvert_exporter": "python",
   "pygments_lexer": "ipython3",
   "version": "3.9.7"
  }
 },
 "nbformat": 4,
 "nbformat_minor": 5
}
